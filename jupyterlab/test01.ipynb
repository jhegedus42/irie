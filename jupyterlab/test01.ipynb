{
 "cells": [
  {
   "cell_type": "code",
   "execution_count": 1,
   "metadata": {},
   "outputs": [
    {
     "data": {
      "text/plain": [
       "\u001b[36mres0\u001b[39m: \u001b[32mInt\u001b[39m = \u001b[32m2\u001b[39m"
      ]
     },
     "execution_count": 1,
     "metadata": {},
     "output_type": "execute_result"
    }
   ],
   "source": [
    "1+1"
   ]
  },
  {
   "cell_type": "code",
   "execution_count": 2,
   "metadata": {},
   "outputs": [
    {
     "data": {
      "text/plain": [
       "\u001b[32mimport \u001b[39m\u001b[36m$ivy.$                               \u001b[39m"
      ]
     },
     "execution_count": 2,
     "metadata": {},
     "output_type": "execute_result"
    }
   ],
   "source": [
    "import $ivy.`org.typelevel::cats-core:1.5.0`"
   ]
  },
  {
   "cell_type": "code",
   "execution_count": 2,
   "metadata": {},
   "outputs": [
    {
     "name": "stderr",
     "output_type": "stream",
     "text": [
      "Invalid $ivy imports: \n",
      "  com.cibo.scalastan.models.NaiveBayes"
     ]
    },
    {
     "ename": "",
     "evalue": "",
     "output_type": "error",
     "traceback": [
      "Invalid $ivy imports: \n  com.cibo.scalastan.models.NaiveBayes"
     ]
    }
   ],
   "source": [
    "import $ivy.`com.cibo.scalastan.models.NaiveBayes`"
   ]
  },
  {
   "cell_type": "code",
   "execution_count": 2,
   "metadata": {},
   "outputs": [
    {
     "name": "stderr",
     "output_type": "stream",
     "text": [
      "Downloading https://repo1.maven.org/maven2/com/cibo/scalastan_2.12/0.9.0/scalastan_2.12-0.9.0.pom\n",
      "Downloaded https://repo1.maven.org/maven2/com/cibo/scalastan_2.12/0.9.0/scalastan_2.12-0.9.0.pom\n",
      "Downloading https://repo1.maven.org/maven2/com/cibo/scalastan_2.12/0.9.0/scalastan_2.12-0.9.0.pom.sha1\n",
      "Downloaded https://repo1.maven.org/maven2/com/cibo/scalastan_2.12/0.9.0/scalastan_2.12-0.9.0.pom.sha1\n",
      "Failed to resolve ivy dependencies:Error downloading com.cibo:scalastan_2.12:0.9.0\n",
      "  not found: /Users/joco/.ivy2/local/com.cibo/scalastan_2.12/0.9.0/ivys/ivy.xml\n",
      "  not found: https://repo1.maven.org/maven2/com/cibo/scalastan_2.12/0.9.0/scalastan_2.12-0.9.0.pom"
     ]
    },
    {
     "ename": "",
     "evalue": "",
     "output_type": "error",
     "traceback": [
      "Failed to resolve ivy dependencies:Error downloading com.cibo:scalastan_2.12:0.9.0\n  not found: /Users/joco/.ivy2/local/com.cibo/scalastan_2.12/0.9.0/ivys/ivy.xml\n  not found: https://repo1.maven.org/maven2/com/cibo/scalastan_2.12/0.9.0/scalastan_2.12-0.9.0.pom"
     ]
    }
   ],
   "source": [
    "import $ivy.`com.cibo::scalastan:0.9.0`"
   ]
  },
  {
   "cell_type": "code",
   "execution_count": 2,
   "metadata": {},
   "outputs": [
    {
     "name": "stderr",
     "output_type": "stream",
     "text": [
      "cmd2.sc:1: not found: value ThisBuild\n",
      "val res2 = ThisBuild/ resolvers+=Resolver.bintrayRepo(\"cibotech\", \"public\")\n",
      "           ^cmd2.sc:1: not found: value resolvers\n",
      "val res2 = ThisBuild/ resolvers+=Resolver.bintrayRepo(\"cibotech\", \"public\")\n",
      "                      ^cmd2.sc:1: not found: value Resolver\n",
      "val res2 = ThisBuild/ resolvers+=Resolver.bintrayRepo(\"cibotech\", \"public\")\n",
      "                                 ^Compilation Failed"
     ]
    },
    {
     "ename": "",
     "evalue": "",
     "output_type": "error",
     "traceback": [
      "Compilation Failed"
     ]
    }
   ],
   "source": [
    "interp.repositories(Resolver.bintrayRepo(\"cibotech\", \"public\"))"
   ]
  },
  {
   "cell_type": "code",
   "execution_count": null,
   "metadata": {},
   "outputs": [],
   "source": []
  }
 ],
 "metadata": {
  "kernelspec": {
   "display_name": "Scala",
   "language": "scala",
   "name": "scala"
  },
  "language_info": {
   "codemirror_mode": "text/x-scala",
   "file_extension": ".scala",
   "mimetype": "text/x-scala",
   "name": "scala",
   "nbconvert_exporter": "script",
   "version": "2.12.9"
  }
 },
 "nbformat": 4,
 "nbformat_minor": 4
}
